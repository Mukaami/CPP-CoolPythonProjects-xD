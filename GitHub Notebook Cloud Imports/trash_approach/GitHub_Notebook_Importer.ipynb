{
  "nbformat": 4,
  "nbformat_minor": 0,
  "metadata": {
    "colab": {
      "provenance": []
    },
    "kernelspec": {
      "name": "python3",
      "display_name": "Python 3"
    },
    "language_info": {
      "name": "python"
    }
  },
  "cells": [
    {
      "cell_type": "code",
      "source": [
        "!pip install import-ipynb\n",
        "\n",
        "import import_ipynb\n",
        "import urllib.request\n",
        "\n",
        "url = \"https://github.com/Mukaami/CPP-CoolPythonProjects-xD/raw/main/GitHub%20Notebook%20Cloud%20Imports/Hello_World!_I_am_ready_to_be_imported.ipynb\"\n",
        "notebook_filename = url.split(\"/\")[-1]\n",
        "\n",
        "urllib.request.urlretrieve(url, notebook_filename)\n",
        "%run $notebook_filename"
      ],
      "metadata": {
        "id": "h5N43bwJOQ2v"
      },
      "execution_count": null,
      "outputs": []
    },
    {
      "cell_type": "code",
      "source": [
        "foo(\"Remote Notebook\")"
      ],
      "metadata": {
        "colab": {
          "base_uri": "https://localhost:8080/"
        },
        "id": "qg5PtbJiPeB4",
        "outputId": "d4c62ede-115b-4e8a-8f38-6efaa37536d5"
      },
      "execution_count": 10,
      "outputs": [
        {
          "output_type": "stream",
          "name": "stdout",
          "text": [
            "Hello World: I am bieng executed from the source: Remote Notebook\n"
          ]
        }
      ]
    }
  ]
}
