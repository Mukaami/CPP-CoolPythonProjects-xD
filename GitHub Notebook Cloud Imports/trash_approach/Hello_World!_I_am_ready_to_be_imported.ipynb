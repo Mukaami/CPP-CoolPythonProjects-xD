{
  "nbformat": 4,
  "nbformat_minor": 0,
  "metadata": {
    "colab": {
      "provenance": []
    },
    "kernelspec": {
      "name": "python3",
      "display_name": "Python 3"
    },
    "language_info": {
      "name": "python"
    }
  },
  "cells": [
    {
      "cell_type": "code",
      "execution_count": 1,
      "metadata": {
        "id": "L-yKOcLrRSXh"
      },
      "outputs": [],
      "source": [
        "def foo(source):\n",
        "  print(\"Hello World:\", \"I am being executed from the:\", source)"
      ]
    },
    {
      "cell_type": "code",
      "source": [],
      "metadata": {
        "id": "-XF6x4AdRjGU"
      },
      "execution_count": null,
      "outputs": []
    }
  ]
}
